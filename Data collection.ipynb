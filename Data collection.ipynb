{
 "cells": [
  {
   "cell_type": "code",
   "execution_count": 2,
   "metadata": {},
   "outputs": [],
   "source": [
    "import pandas as pd\n",
    "from selenium import webdriver\n",
    "from selenium.webdriver.support import expected_conditions as EC\n",
    "from selenium.webdriver.support.ui import WebDriverWait\n",
    "from selenium.webdriver.common.by import By\n",
    "from selenium.common.exceptions import NoSuchElementException\n",
    "from selenium.webdriver.common.action_chains import ActionChains\n",
    "import numpy as np\n",
    "from bs4 import BeautifulSoup\n",
    "import re\n",
    "import matplotlib.pyplot as plt\n",
    "import seaborn as sns"
   ]
  },
  {
   "cell_type": "code",
   "execution_count": 3,
   "metadata": {},
   "outputs": [],
   "source": [
    "def get_voting_results(section_link, partial_link_text):\n",
    "    # section_link should lead to the page where votes from year xxx to year yyy are located \n",
    "    #(example: https://www.bk.admin.ch/ch/d/pore/va/vab_2_2_4_1_2011_2020.html)\n",
    "    \n",
    "    driver = webdriver.Chrome()\n",
    "    driver.get(section_link)\n",
    "    alle_abstimmungen = driver.find_elements_by_partial_link_text(partial_link_text)\n",
    "    data = pd.DataFrame()\n",
    "    \n",
    "    for n_abstimmung in range(len(alle_abstimmungen)):\n",
    "        driver.find_elements_by_partial_link_text(partial_link_text)[n_abstimmung].click()\n",
    "        \n",
    "        url_1 = driver.current_url\n",
    "        for v in range(len(driver.find_elements_by_link_text(\"Kantonsresultate\"))):\n",
    "                \n",
    "            ActionChains(driver).move_to_element(driver.find_elements_by_link_text(\"Kantonsresultate\")[v]).perform()\n",
    "            driver.find_elements_by_link_text(\"Kantonsresultate\")[v].click()\n",
    "            element = WebDriverWait(driver, 20).until(EC.presence_of_element_located((By.XPATH, \n",
    "                                                                                        \"//*[@id='content']/div[3]/article/h3\")))\n",
    "            aa = driver.find_element_by_xpath(\"//*[@id='content']/div[3]/article/h3\")\n",
    "            bb = driver.find_element_by_xpath(\"//*[@id='contentNavigation']/a\")\n",
    "\n",
    "            try:\n",
    "                date_ini = re.search(r'\\d{2}.\\d{2}.\\d{4}', aa.text).group()\n",
    "            except AttributeError:\n",
    "                date_ini = np.nan\n",
    "\n",
    "            date_abs = re.search(r'\\d{2}.\\d{2}.\\d{4}', bb.text).group() # date of voting\n",
    "\n",
    "            try:\n",
    "                topic = re.findall(r\"\\'(.+?)\\'\", aa.text)[0]\n",
    "            except IndexError:\n",
    "                topic = aa.text\n",
    "            url = driver.current_url\n",
    "\n",
    "            html = driver.page_source\n",
    "            soup = BeautifulSoup(html,'html.parser')\n",
    "            div = soup.select_one(\"table\")\n",
    "            table=pd.read_html(str(div))\n",
    "\n",
    "            if len(data) == 0:\n",
    "                data = table[0]\n",
    "                data[\"Date_ini\"] = [date_ini]*len(data)\n",
    "                data[\"Date_abs\"] = [date_abs]*len(data)\n",
    "                data[\"Topic\"] = [topic]*len(data)\n",
    "                data[\"Link\"] = [url]*len(data)\n",
    "            else:\n",
    "                data1 = table[0]\n",
    "                data1[\"Date_ini\"] = [date_ini]*len(data1)\n",
    "                data1[\"Date_abs\"] = [date_abs]*len(data1)\n",
    "                data1[\"Topic\"] = [topic]*len(data1)\n",
    "                data1[\"Link\"] = [url]*len(data1)\n",
    "\n",
    "                data = pd.concat([data, data1])\n",
    "                \n",
    "            driver.get(url_1)\n",
    "            \n",
    "        driver.get(section_link)\n",
    "    \n",
    "    return data"
   ]
  },
  {
   "cell_type": "code",
   "execution_count": 4,
   "metadata": {},
   "outputs": [],
   "source": [
    "for years in [\"2011_2020\", \"2001_2010\", \"1991_1999\", \"2000\", \"1981_1990\", \"1971_1980\", \"1961_1970\", \"1951_1960\"]:\n",
    "    st = \".\" + years[:2]\n",
    "    link = \"https://www.bk.admin.ch/ch/d/pore/va/vab_2_2_4_1_\" + years + \".html\"\n",
    "    globals()[\"votings_\" + years] = get_voting_results(link, st)"
   ]
  },
  {
   "cell_type": "code",
   "execution_count": 193,
   "metadata": {},
   "outputs": [],
   "source": [
    "votings = pd.concat([votings_1951_1960, votings_1961_1970, votings_1971_1980, votings_1981_1990, votings_2000, \n",
    "                     votings_1991_1999, votings_2001_2010, votings_2011_2020])"
   ]
  },
  {
   "cell_type": "code",
   "execution_count": 197,
   "metadata": {},
   "outputs": [
    {
     "data": {
      "text/html": [
       "<div>\n",
       "<style scoped>\n",
       "    .dataframe tbody tr th:only-of-type {\n",
       "        vertical-align: middle;\n",
       "    }\n",
       "\n",
       "    .dataframe tbody tr th {\n",
       "        vertical-align: top;\n",
       "    }\n",
       "\n",
       "    .dataframe thead th {\n",
       "        text-align: right;\n",
       "    }\n",
       "</style>\n",
       "<table border=\"1\" class=\"dataframe\">\n",
       "  <thead>\n",
       "    <tr style=\"text-align: right;\">\n",
       "      <th></th>\n",
       "      <th>Kanton</th>\n",
       "      <th>Stimmber.</th>\n",
       "      <th>Einger.</th>\n",
       "      <th>% Stimmbet.</th>\n",
       "      <th>Ja</th>\n",
       "      <th>Nein</th>\n",
       "      <th>% Ja</th>\n",
       "      <th>% Nein</th>\n",
       "      <th>Date_ini</th>\n",
       "      <th>Date_abs</th>\n",
       "      <th>Topic</th>\n",
       "      <th>Link</th>\n",
       "      <th>Stände Ja</th>\n",
       "      <th>Stände Nein</th>\n",
       "    </tr>\n",
       "  </thead>\n",
       "  <tbody>\n",
       "    <tr>\n",
       "      <th>0</th>\n",
       "      <td>Zürich</td>\n",
       "      <td>239'976</td>\n",
       "      <td>164'984</td>\n",
       "      <td>68.75%</td>\n",
       "      <td>65'251</td>\n",
       "      <td>94'948</td>\n",
       "      <td>40.7%</td>\n",
       "      <td>59.3%</td>\n",
       "      <td>NaN</td>\n",
       "      <td>25.02.1951</td>\n",
       "      <td>Bundesbeschluss über den Transport von Persone...</td>\n",
       "      <td>https://www.bk.admin.ch/ch/d/pore/va/19510225/...</td>\n",
       "      <td>NaN</td>\n",
       "      <td>NaN</td>\n",
       "    </tr>\n",
       "    <tr>\n",
       "      <th>1</th>\n",
       "      <td>Bern</td>\n",
       "      <td>247'324</td>\n",
       "      <td>93'313</td>\n",
       "      <td>37.73%</td>\n",
       "      <td>44'993</td>\n",
       "      <td>47'567</td>\n",
       "      <td>48.6%</td>\n",
       "      <td>51.4%</td>\n",
       "      <td>NaN</td>\n",
       "      <td>25.02.1951</td>\n",
       "      <td>Bundesbeschluss über den Transport von Persone...</td>\n",
       "      <td>https://www.bk.admin.ch/ch/d/pore/va/19510225/...</td>\n",
       "      <td>NaN</td>\n",
       "      <td>NaN</td>\n",
       "    </tr>\n",
       "  </tbody>\n",
       "</table>\n",
       "</div>"
      ],
      "text/plain": [
       "   Kanton Stimmber.  Einger. % Stimmbet.      Ja    Nein   % Ja % Nein  \\\n",
       "0  Zürich   239'976  164'984      68.75%  65'251  94'948  40.7%  59.3%   \n",
       "1    Bern   247'324   93'313      37.73%  44'993  47'567  48.6%  51.4%   \n",
       "\n",
       "  Date_ini    Date_abs                                              Topic  \\\n",
       "0      NaN  25.02.1951  Bundesbeschluss über den Transport von Persone...   \n",
       "1      NaN  25.02.1951  Bundesbeschluss über den Transport von Persone...   \n",
       "\n",
       "                                                Link Stände Ja Stände Nein  \n",
       "0  https://www.bk.admin.ch/ch/d/pore/va/19510225/...       NaN         NaN  \n",
       "1  https://www.bk.admin.ch/ch/d/pore/va/19510225/...       NaN         NaN  "
      ]
     },
     "execution_count": 197,
     "metadata": {},
     "output_type": "execute_result"
    }
   ],
   "source": [
    "votings[:2]"
   ]
  },
  {
   "cell_type": "code",
   "execution_count": null,
   "metadata": {},
   "outputs": [],
   "source": []
  },
  {
   "cell_type": "code",
   "execution_count": 5,
   "metadata": {},
   "outputs": [],
   "source": [
    "m_inits = pd.read_excel(\"military_links.xlsx\", header = None)"
   ]
  },
  {
   "cell_type": "code",
   "execution_count": 6,
   "metadata": {},
   "outputs": [],
   "source": [
    "def init_text(link, driverr):\n",
    "    driverr.get(link)\n",
    "    driverr.find_elements_by_link_text(\"Übersicht\")[0].click()\n",
    "    try:\n",
    "        driverr.find_elements_by_link_text(\"Detailangaben zur Volksinitiative\")[0].click()\n",
    "        driverr.find_elements_by_link_text(\"Die Initiative im Wortlaut\")[0].click()\n",
    "        cc = driverr.find_element_by_xpath(\"//*[@id='content']/div[3]/article\")\n",
    "        ini_t = cc.text.replace(\"\\n\", \"\")\n",
    "    except IndexError:\n",
    "        ini_t = np.nan\n",
    "\n",
    "    return ini_t"
   ]
  },
  {
   "cell_type": "code",
   "execution_count": 7,
   "metadata": {},
   "outputs": [],
   "source": [
    "driver3r = webdriver.Chrome()"
   ]
  },
  {
   "cell_type": "code",
   "execution_count": 8,
   "metadata": {},
   "outputs": [],
   "source": [
    "descs = []\n",
    "for l in m_inits[0]:\n",
    "    ff = init_text(l, driver3r)\n",
    "    descs.append(ff)"
   ]
  }
 ],
 "metadata": {
  "kernelspec": {
   "display_name": "Python 3",
   "language": "python",
   "name": "python3"
  },
  "language_info": {
   "codemirror_mode": {
    "name": "ipython",
    "version": 3
   },
   "file_extension": ".py",
   "mimetype": "text/x-python",
   "name": "python",
   "nbconvert_exporter": "python",
   "pygments_lexer": "ipython3",
   "version": "3.7.6"
  }
 },
 "nbformat": 4,
 "nbformat_minor": 4
}
